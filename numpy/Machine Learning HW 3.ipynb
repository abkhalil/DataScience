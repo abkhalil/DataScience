{
 "cells": [
  {
   "cell_type": "markdown",
   "metadata": {},
   "source": [
    "# Machine Learning HW 2\n",
    "This is the machine learning homework. This exercise focus on linear regression, your task is to predict the percentage of the student is expected to score based upon the number of hours they studied.\n",
    "Your answer sheet must have the following outputs:\n",
    "1.\tNumber of columns and rows \n",
    "2.\tStatistical details of the data\n",
    "3.\tA 2-D graph to show the relationship between the data\n",
    "4.\tThe value of intercept\n",
    "5.\tThe value of coefficient of x\n",
    "6.\tCompared table of actual values for X_test with predicted values\n",
    "7.\tValue of Mean absolute error MAE\n",
    "8.\tValue of Mean squared error MSE\n",
    "9.\tValue of Root  mean squared error RMSE\n",
    "### Good LuCk!\n",
    "#### Deadline: 2018-May-21"
   ]
  }
 ],
 "metadata": {
  "kernelspec": {
   "display_name": "Python 3",
   "language": "python",
   "name": "python3"
  },
  "language_info": {
   "codemirror_mode": {
    "name": "ipython",
    "version": 3
   },
   "file_extension": ".py",
   "mimetype": "text/x-python",
   "name": "python",
   "nbconvert_exporter": "python",
   "pygments_lexer": "ipython3",
   "version": "3.6.4"
  }
 },
 "nbformat": 4,
 "nbformat_minor": 2
}
